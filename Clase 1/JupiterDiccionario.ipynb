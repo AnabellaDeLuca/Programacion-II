{
 "cells": [
  {
   "cell_type": "markdown",
   "metadata": {},
   "source": [
    "# 1 Crear un dicccionario que contenga nombre, edad y carrera de un alumno y mostrar el diccionario completo."
   ]
  },
  {
   "cell_type": "code",
   "execution_count": 2,
   "metadata": {},
   "outputs": [
    {
     "name": "stdout",
     "output_type": "stream",
     "text": [
      "{'Nombre': 'Julian', 'Edad': '23', 'Carrera': 'Prof. de Educacion Fisica'}\n"
     ]
    }
   ],
   "source": [
    "Alumno1={\"Nombre\":\"Julian\",\"Edad\":\"23\",\"Carrera\":\"Prof. de Educacion Fisica\"}\n",
    "print(Alumno1)"
   ]
  },
  {
   "cell_type": "markdown",
   "metadata": {},
   "source": [
    "# 2 utilizar el metodo get para mostrar el valor de la calve nombre "
   ]
  },
  {
   "cell_type": "code",
   "execution_count": 3,
   "metadata": {},
   "outputs": [
    {
     "name": "stdout",
     "output_type": "stream",
     "text": [
      "El nombre del alumno es Julian\n"
     ]
    }
   ],
   "source": [
    "Alumno1={\"Nombre\":\"Julian\",\"Edad\":\"23\",\"Carrera\":\"Prof. de Educacion Fisica\"}\n",
    "\n",
    "print(\"El nombre del alumno es\",Alumno1.get(\"Nombre\"))"
   ]
  },
  {
   "cell_type": "markdown",
   "metadata": {},
   "source": [
    "# 3 cambiar la edad del alumno y mostrar el diccionario completo"
   ]
  },
  {
   "cell_type": "code",
   "execution_count": 4,
   "metadata": {},
   "outputs": [
    {
     "name": "stdout",
     "output_type": "stream",
     "text": [
      "{'Nombre': 'Julian', 'Edad': '35', 'Carrera': 'Prof. de Educacion Fisica'}\n"
     ]
    }
   ],
   "source": [
    "Alumno1[\"Edad\"] = \"35\"\n",
    "print(Alumno1)"
   ]
  },
  {
   "cell_type": "markdown",
   "metadata": {},
   "source": [
    "# 4 agregar un par clave valor que contenga el sexo alumno, mostrar el diccionario completo."
   ]
  },
  {
   "cell_type": "code",
   "execution_count": 5,
   "metadata": {},
   "outputs": [
    {
     "name": "stdout",
     "output_type": "stream",
     "text": [
      "{'Nombre': 'Julian', 'Edad': '35', 'Carrera': 'Prof. de Educacion Fisica', 'Sexo': 'Masculino'}\n"
     ]
    }
   ],
   "source": [
    "Alumno1[\"Sexo\"] = \"Masculino\"\n",
    "print(Alumno1)"
   ]
  },
  {
   "cell_type": "markdown",
   "metadata": {},
   "source": [
    "# 5 Usar el metodo pop() para remover la edad del alumno, mostrar el diccionario completo."
   ]
  },
  {
   "cell_type": "code",
   "execution_count": 6,
   "metadata": {},
   "outputs": [
    {
     "name": "stdout",
     "output_type": "stream",
     "text": [
      "{'Nombre': 'Julian', 'Edad': '35', 'Carrera': 'Prof. de Educacion Fisica'}\n"
     ]
    }
   ],
   "source": [
    "Alumno1.pop(\"Sexo\")\n",
    "\n",
    "print(Alumno1)"
   ]
  },
  {
   "cell_type": "markdown",
   "metadata": {},
   "source": [
    "# 6 Crear un diccionario que contenga las notas de un alumno en tres materias. Programacion 1 prog 2 y ciencia de datos."
   ]
  },
  {
   "cell_type": "code",
   "execution_count": 7,
   "metadata": {},
   "outputs": [
    {
     "name": "stdout",
     "output_type": "stream",
     "text": [
      "Las notas de Julian son {'Programacion 1': '9', 'Ciencia de datos': '8', 'Programacion 2': '8'}\n"
     ]
    }
   ],
   "source": [
    "Notas={\"Programacion 1\": \"9\",\"Ciencia de datos\":\"8\",\"Programacion 2\":\"8\"}\n",
    "\n",
    "print(\"Las notas de\",Alumno1.get(\"Nombre\"),\"son\",Notas)"
   ]
  },
  {
   "cell_type": "markdown",
   "metadata": {},
   "source": [
    "# 7 mostrar todos los items del diccionario de notas."
   ]
  },
  {
   "cell_type": "code",
   "execution_count": 8,
   "metadata": {},
   "outputs": [
    {
     "name": "stdout",
     "output_type": "stream",
     "text": [
      "dict_values(['9', '8', '8'])\n"
     ]
    }
   ],
   "source": [
    "print(Notas.values())\n"
   ]
  },
  {
   "cell_type": "markdown",
   "metadata": {},
   "source": [
    "# 8 Cear un nuevo diccionario que sea una copia del diccionario de notas del alumno. mostrar los datos del nuevo diccionario."
   ]
  },
  {
   "cell_type": "code",
   "execution_count": 9,
   "metadata": {},
   "outputs": [
    {
     "name": "stdout",
     "output_type": "stream",
     "text": [
      "{'Programacion 1': '9', 'Ciencia de datos': '8', 'Programacion 2': '8'}\n",
      "{'Programacion 1': '9', 'Ciencia de datos': '8', 'Programacion 2': '8'}\n"
     ]
    }
   ],
   "source": [
    "NuevoDiccionario=Notas.copy()\n",
    "print(NuevoDiccionario)\n",
    "print(Notas)\n"
   ]
  },
  {
   "cell_type": "markdown",
   "metadata": {},
   "source": [
    "# 9 Mostrar los valores del diccionario de notas."
   ]
  },
  {
   "cell_type": "code",
   "execution_count": 10,
   "metadata": {},
   "outputs": [
    {
     "name": "stdout",
     "output_type": "stream",
     "text": [
      "dict_keys(['Programacion 1', 'Ciencia de datos', 'Programacion 2'])\n"
     ]
    }
   ],
   "source": [
    "print(Notas.keys())"
   ]
  },
  {
   "cell_type": "markdown",
   "metadata": {},
   "source": [
    "# 10 Mostrar la longitud del diccionario de notas."
   ]
  },
  {
   "cell_type": "code",
   "execution_count": 11,
   "metadata": {},
   "outputs": [
    {
     "name": "stdout",
     "output_type": "stream",
     "text": [
      "3\n"
     ]
    }
   ],
   "source": [
    "print(len(Notas))"
   ]
  }
 ],
 "metadata": {
  "kernelspec": {
   "display_name": "Python 3",
   "language": "python",
   "name": "python3"
  },
  "language_info": {
   "codemirror_mode": {
    "name": "ipython",
    "version": 3
   },
   "file_extension": ".py",
   "mimetype": "text/x-python",
   "name": "python",
   "nbconvert_exporter": "python",
   "pygments_lexer": "ipython3",
   "version": "3.11.9"
  }
 },
 "nbformat": 4,
 "nbformat_minor": 2
}
