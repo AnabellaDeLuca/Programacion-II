{
 "cells": [
  {
   "cell_type": "markdown",
   "metadata": {},
   "source": [
    "# Crear una lista de 5 elementos e imprimirla "
   ]
  },
  {
   "cell_type": "code",
   "execution_count": 1,
   "metadata": {},
   "outputs": [
    {
     "name": "stdout",
     "output_type": "stream",
     "text": [
      "['Tucuman', 'Misiones', 'Cordoba', 'La Pampa', 'Salta']\n"
     ]
    }
   ],
   "source": [
    "Lista = [\"Tucuman\",\"Misiones\",\"Cordoba\",\"La Pampa\",\"Salta\"]\n",
    "print(Lista)"
   ]
  },
  {
   "cell_type": "markdown",
   "metadata": {},
   "source": [
    "# imprimir por pantalla el tercer elemento"
   ]
  },
  {
   "cell_type": "code",
   "execution_count": 2,
   "metadata": {},
   "outputs": [
    {
     "name": "stdout",
     "output_type": "stream",
     "text": [
      "Cordoba\n"
     ]
    }
   ],
   "source": [
    "Lista = [\"Tucuman\",\"Misiones\",\"Cordoba\",\"La Pampa\",\"Salta\"]\n",
    "print(Lista[2])\n"
   ]
  },
  {
   "cell_type": "markdown",
   "metadata": {},
   "source": [
    "# Imprimir por pantalla del segundo al cuarto elemento"
   ]
  },
  {
   "cell_type": "code",
   "execution_count": 3,
   "metadata": {},
   "outputs": [
    {
     "name": "stdout",
     "output_type": "stream",
     "text": [
      "['Misiones', 'Cordoba']\n"
     ]
    }
   ],
   "source": [
    "Lista = [\"Tucuman\",\"Misiones\",\"Cordoba\",\"La Pampa\",\"Salta\"]\n",
    "print(Lista[1:3])"
   ]
  },
  {
   "cell_type": "markdown",
   "metadata": {},
   "source": [
    "# Mostrar el tipo de dato de la lista"
   ]
  },
  {
   "cell_type": "code",
   "execution_count": 4,
   "metadata": {},
   "outputs": [
    {
     "name": "stdout",
     "output_type": "stream",
     "text": [
      "<class 'list'>\n"
     ]
    }
   ],
   "source": [
    "Lista = [\"Tucuman\",\"Misiones\",\"Cordoba\",\"La Pampa\",\"Salta\"]\n",
    "print(type(Lista))"
   ]
  },
  {
   "cell_type": "markdown",
   "metadata": {},
   "source": [
    "# Mostrar los primeros 4 elementos de la lista"
   ]
  },
  {
   "cell_type": "code",
   "execution_count": 5,
   "metadata": {},
   "outputs": [
    {
     "name": "stdout",
     "output_type": "stream",
     "text": [
      "['Tucuman', 'Misiones', 'Cordoba', 'La Pampa']\n"
     ]
    }
   ],
   "source": [
    "Lista = [\"Tucuman\",\"Misiones\",\"Cordoba\",\"La Pampa\",\"Salta\"]\n",
    "\n",
    "print(Lista[:4])"
   ]
  },
  {
   "cell_type": "markdown",
   "metadata": {},
   "source": [
    "# agregar una provincia a la lista que ya exista y una que no"
   ]
  },
  {
   "cell_type": "code",
   "execution_count": 6,
   "metadata": {},
   "outputs": [
    {
     "name": "stdout",
     "output_type": "stream",
     "text": [
      "['Tucuman', 'Misiones', 'Cordoba', 'La Pampa', 'Salta', 'La Pampa', 'Tierra del Fuego']\n"
     ]
    }
   ],
   "source": [
    "Lista = [\"Tucuman\",\"Misiones\",\"Cordoba\",\"La Pampa\",\"Salta\"]\n",
    "\n",
    "Lista.append(\"La Pampa\")\n",
    "\n",
    "Lista.append(\"Tierra del Fuego\")\n",
    "\n",
    "print(Lista)"
   ]
  },
  {
   "cell_type": "markdown",
   "metadata": {},
   "source": [
    "# Agregar una provincia, pero en cuarta posicion"
   ]
  },
  {
   "cell_type": "code",
   "execution_count": 7,
   "metadata": {},
   "outputs": [
    {
     "name": "stdout",
     "output_type": "stream",
     "text": [
      "['Tucuman', 'Misiones', 'Cordoba', 'Chubut', 'La Pampa', 'Salta']\n"
     ]
    }
   ],
   "source": [
    "Lista = [\"Tucuman\",\"Misiones\",\"Cordoba\",\"La Pampa\",\"Salta\"]\n",
    "\n",
    "Lista.insert(3,\"Chubut\")\n",
    "\n",
    "print(Lista)\n"
   ]
  },
  {
   "cell_type": "markdown",
   "metadata": {},
   "source": [
    "# Extender otra lista a la ya creada"
   ]
  },
  {
   "cell_type": "code",
   "execution_count": 8,
   "metadata": {},
   "outputs": [
    {
     "name": "stdout",
     "output_type": "stream",
     "text": [
      "['Tucuman', 'Misiones', 'Cordoba', 'La Pampa', 'Salta', 'Jujuy', 'Santiago del Estero', 'Tierra del Fuego']\n"
     ]
    }
   ],
   "source": [
    "Lista = [\"Tucuman\",\"Misiones\",\"Cordoba\",\"La Pampa\",\"Salta\"]\n",
    "\n",
    "Lista2 = [\"Jujuy\",\"Santiago del Estero\",\"Tierra del Fuego\"]\n",
    "\n",
    "Lista.extend(Lista2)\n",
    "print(Lista)\n"
   ]
  },
  {
   "cell_type": "markdown",
   "metadata": {},
   "source": [
    "# Eliminar un elemento de la lista "
   ]
  },
  {
   "cell_type": "code",
   "execution_count": 9,
   "metadata": {},
   "outputs": [
    {
     "name": "stdout",
     "output_type": "stream",
     "text": [
      "['Tucuman', 'Misiones', 'Cordoba', 'Salta', 'Jujuy', 'Santiago del Estero', 'Tierra del Fuego']\n"
     ]
    }
   ],
   "source": [
    "Lista.remove(\"La Pampa\")\n",
    "print(Lista)\n"
   ]
  },
  {
   "cell_type": "markdown",
   "metadata": {},
   "source": [
    "# Extraer el ultimo elemento de la lista, guardarlo en variable e imprimirlo."
   ]
  },
  {
   "cell_type": "code",
   "execution_count": 10,
   "metadata": {},
   "outputs": [
    {
     "name": "stdout",
     "output_type": "stream",
     "text": [
      "5\n",
      "Salta\n",
      "['Tucuman', 'Misiones', 'Cordoba', 'La Pampa', 'Salta']\n"
     ]
    }
   ],
   "source": [
    "Lista = [\"Tucuman\",\"Misiones\",\"Cordoba\",\"La Pampa\",\"Salta\"]\n",
    "Largo_lista=(len(Lista))\n",
    "print(Largo_lista)\n",
    "\n",
    "Lista[(Largo_lista-1)]\n",
    "print(Lista[(Largo_lista-1)])\n",
    "\n",
    "print(Lista)"
   ]
  }
 ],
 "metadata": {
  "kernelspec": {
   "display_name": "Python 3",
   "language": "python",
   "name": "python3"
  },
  "language_info": {
   "codemirror_mode": {
    "name": "ipython",
    "version": 3
   },
   "file_extension": ".py",
   "mimetype": "text/x-python",
   "name": "python",
   "nbconvert_exporter": "python",
   "pygments_lexer": "ipython3",
   "version": "3.11.9"
  }
 },
 "nbformat": 4,
 "nbformat_minor": 2
}
