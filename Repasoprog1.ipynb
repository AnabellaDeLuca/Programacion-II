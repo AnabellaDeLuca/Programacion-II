{
 "cells": [
  {
   "cell_type": "code",
   "execution_count": 17,
   "metadata": {},
   "outputs": [
    {
     "name": "stdout",
     "output_type": "stream",
     "text": [
      "La suma de los dos numeros es: 5687\n"
     ]
    }
   ],
   "source": [
    "# Suma de dos numeros\n",
    "\n",
    "num1=int(input(\"Escriba el primer numero:\"))\n",
    "num2=int(input(\"Escriba el segundo numero:\"))\n",
    "SumaNum=(num1+num2)\n",
    "\n",
    "print(\"La suma de los dos numeros es:\",SumaNum)"
   ]
  },
  {
   "cell_type": "code",
   "execution_count": 27,
   "metadata": {},
   "outputs": [
    {
     "name": "stdout",
     "output_type": "stream",
     "text": [
      "El numero ingresado es PAR\n"
     ]
    }
   ],
   "source": [
    "# Numero par o impar \n",
    "numero=int(input(\"Ingrese un numero:\"))\n",
    "if numero % 2 == 0:\n",
    "    print(\"El numero ingresado es PAR\")\n",
    "else:\n",
    "     print(\"El numero ingresado es IMPAR\")"
   ]
  },
  {
   "cell_type": "code",
   "execution_count": 29,
   "metadata": {},
   "outputs": [
    {
     "name": "stdout",
     "output_type": "stream",
     "text": [
      "El area del circulo es: 78.53999999999999\n"
     ]
    }
   ],
   "source": [
    "# Calcular el Area de un circulo\n",
    "radio=float(input(\"Ingrese el radio del circulo:\"))\n",
    "pi = 3.1416\n",
    "area= pi * (radio ** 2)\n",
    "print(\"El area del circulo es:\",area)"
   ]
  },
  {
   "cell_type": "code",
   "execution_count": 8,
   "metadata": {},
   "outputs": [
    {
     "name": "stdout",
     "output_type": "stream",
     "text": [
      "La division de los numeros es: 0.3333333333333333\n"
     ]
    }
   ],
   "source": [
    "# Calculadora simple\n",
    "numero1=int(input(\"Ingrese el primer numero:\"))\n",
    "numero2=int(input(\"Ingrese el segundo numero:\"))\n",
    "operacion = input(\"ingrese la operacion a realizar (+ , -, * , /): \")\n",
    "if operacion == \"+\":\n",
    "    print(\"la suma de los numeros es:\", numero1+numero2)\n",
    "\n",
    "elif operacion == \"-\":\n",
    "    print(\"la resta de los dos numeros es:\",numero1-numero2)\n",
    "elif operacion == \"*\":\n",
    "    print(\"el producto de los dos numeros es:\",numero1*numero2) \n",
    "elif operacion == \"/\" :\n",
    "    print(\"La division de los numeros es:\", numero1/numero2)\n",
    "else:\n",
    "    print(\"Operacion invalida\")"
   ]
  }
 ],
 "metadata": {
  "kernelspec": {
   "display_name": "Python 3",
   "language": "python",
   "name": "python3"
  },
  "language_info": {
   "codemirror_mode": {
    "name": "ipython",
    "version": 3
   },
   "file_extension": ".py",
   "mimetype": "text/x-python",
   "name": "python",
   "nbconvert_exporter": "python",
   "pygments_lexer": "ipython3",
   "version": "3.11.9"
  }
 },
 "nbformat": 4,
 "nbformat_minor": 2
}
